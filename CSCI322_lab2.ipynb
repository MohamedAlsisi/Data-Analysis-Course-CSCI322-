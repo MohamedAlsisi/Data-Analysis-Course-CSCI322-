{
  "cells": [
    {
      "cell_type": "markdown",
      "metadata": {
        "id": "view-in-github",
        "colab_type": "text"
      },
      "source": [
        "<a href=\"https://colab.research.google.com/github/MohamedAlsisi/Data-Analysis-Course-CSCI322-/blob/main/CSCI322_lab2.ipynb\" target=\"_parent\"><img src=\"https://colab.research.google.com/assets/colab-badge.svg\" alt=\"Open In Colab\"/></a>"
      ]
    },
    {
      "cell_type": "markdown",
      "metadata": {
        "id": "ZmesvAewmdEW"
      },
      "source": [
        "# Section: (Please write your section number)"
      ]
    },
    {
      "cell_type": "code",
      "source": [
        "from google.colab import drive\n",
        "drive.mount('/content/drive')\n",
        "file = '/content/drive/MyDrive/Courses/DataAnalysis/Lab2/ted_main.csv'"
      ],
      "metadata": {
        "colab": {
          "base_uri": "https://localhost:8080/"
        },
        "id": "A1hNaLVdm1OH",
        "outputId": "817c1147-487d-44de-d160-00f13b160b7c"
      },
      "execution_count": null,
      "outputs": [
        {
          "output_type": "stream",
          "name": "stdout",
          "text": [
            "Mounted at /content/drive\n"
          ]
        }
      ]
    },
    {
      "cell_type": "markdown",
      "metadata": {
        "id": "ce2fmnkcmdFM"
      },
      "source": [
        "# Lab 4\n",
        "<ol>\n",
        "    <li><a href=\"#sample\">Sampling</a></li>\n",
        "        <ul><li><a href=\"#simple\">1.1 Simple random sampling</a></li>\n",
        "        <li><a href=\"#stratified\">1.2 Stratified random sampling</a></li>\n",
        "        <li><a href=\"#cluster\">1.3 Cluster sampling</a></li>\n",
        "    </ul>\n",
        "    <li><a href=\"#binning\">Binning</a></li>\n",
        "        <ul>\n",
        "            <li><a href='#depth'>2.1 Equal depth(Frequancy)</a></li>\n",
        "            <li><a href='#width'>2.2 Equal width</a></li>\n",
        "            <ul>\n",
        "                <li><a href='#mean'>2.2.1 Binning with the mean</a></li>\n",
        "                <li><a href='#median'>2.2.2 Binning with the median</a></li>\n",
        "                <li><a href='#boundaries'>2.2.3 Binning with the boundaries</a></li>\n",
        "            </ul>\n",
        "        </ul>\n",
        "    <li><a href=\"#corr\">Correlation Analysis</a></li>\n",
        "</ol>"
      ]
    },
    {
      "cell_type": "code",
      "execution_count": null,
      "metadata": {
        "id": "1mJRU1at7vlt"
      },
      "outputs": [],
      "source": [
        "import pandas as pd\n",
        "df = pd.read_csv(file)"
      ]
    },
    {
      "cell_type": "code",
      "execution_count": null,
      "metadata": {
        "colab": {
          "base_uri": "https://localhost:8080/",
          "height": 350
        },
        "id": "Vrt17B1KmdFb",
        "outputId": "151bf834-810f-4d57-b2ab-548c5002771a"
      },
      "outputs": [
        {
          "output_type": "execute_result",
          "data": {
            "text/plain": [
              "   comments                                        description  duration  \\\n",
              "0      4553  Sir Ken Robinson makes an entertaining and pro...      1164   \n",
              "1       265  With the same humor and humanity he exuded in ...       977   \n",
              "\n",
              "     event   film_date  languages  main_speaker  \\\n",
              "0  TED2006  1140825600         60  Ken Robinson   \n",
              "1  TED2006  1140825600         43       Al Gore   \n",
              "\n",
              "                                        name  num_speaker  published_date  \\\n",
              "0  Ken Robinson: Do schools kill creativity?            1      1151367060   \n",
              "1       Al Gore: Averting the climate crisis            1      1151367060   \n",
              "\n",
              "                                             ratings  \\\n",
              "0  [{'id': 7, 'name': 'Funny', 'count': 19645}, {...   \n",
              "1  [{'id': 7, 'name': 'Funny', 'count': 544}, {'i...   \n",
              "\n",
              "                                       related_talks speaker_occupation  \\\n",
              "0  [{'id': 865, 'hero': 'https://pe.tedcdn.com/im...    Author/educator   \n",
              "1  [{'id': 243, 'hero': 'https://pe.tedcdn.com/im...   Climate advocate   \n",
              "\n",
              "                                                tags  \\\n",
              "0  ['children', 'creativity', 'culture', 'dance',...   \n",
              "1  ['alternative energy', 'cars', 'climate change...   \n",
              "\n",
              "                         title  \\\n",
              "0  Do schools kill creativity?   \n",
              "1  Averting the climate crisis   \n",
              "\n",
              "                                                 url     views  \n",
              "0  https://www.ted.com/talks/ken_robinson_says_sc...  47227110  \n",
              "1  https://www.ted.com/talks/al_gore_on_averting_...   3200520  "
            ],
            "text/html": [
              "\n",
              "  <div id=\"df-7d60b1a4-2676-4a5b-a41f-f89eb095a673\">\n",
              "    <div class=\"colab-df-container\">\n",
              "      <div>\n",
              "<style scoped>\n",
              "    .dataframe tbody tr th:only-of-type {\n",
              "        vertical-align: middle;\n",
              "    }\n",
              "\n",
              "    .dataframe tbody tr th {\n",
              "        vertical-align: top;\n",
              "    }\n",
              "\n",
              "    .dataframe thead th {\n",
              "        text-align: right;\n",
              "    }\n",
              "</style>\n",
              "<table border=\"1\" class=\"dataframe\">\n",
              "  <thead>\n",
              "    <tr style=\"text-align: right;\">\n",
              "      <th></th>\n",
              "      <th>comments</th>\n",
              "      <th>description</th>\n",
              "      <th>duration</th>\n",
              "      <th>event</th>\n",
              "      <th>film_date</th>\n",
              "      <th>languages</th>\n",
              "      <th>main_speaker</th>\n",
              "      <th>name</th>\n",
              "      <th>num_speaker</th>\n",
              "      <th>published_date</th>\n",
              "      <th>ratings</th>\n",
              "      <th>related_talks</th>\n",
              "      <th>speaker_occupation</th>\n",
              "      <th>tags</th>\n",
              "      <th>title</th>\n",
              "      <th>url</th>\n",
              "      <th>views</th>\n",
              "    </tr>\n",
              "  </thead>\n",
              "  <tbody>\n",
              "    <tr>\n",
              "      <th>0</th>\n",
              "      <td>4553</td>\n",
              "      <td>Sir Ken Robinson makes an entertaining and pro...</td>\n",
              "      <td>1164</td>\n",
              "      <td>TED2006</td>\n",
              "      <td>1140825600</td>\n",
              "      <td>60</td>\n",
              "      <td>Ken Robinson</td>\n",
              "      <td>Ken Robinson: Do schools kill creativity?</td>\n",
              "      <td>1</td>\n",
              "      <td>1151367060</td>\n",
              "      <td>[{'id': 7, 'name': 'Funny', 'count': 19645}, {...</td>\n",
              "      <td>[{'id': 865, 'hero': 'https://pe.tedcdn.com/im...</td>\n",
              "      <td>Author/educator</td>\n",
              "      <td>['children', 'creativity', 'culture', 'dance',...</td>\n",
              "      <td>Do schools kill creativity?</td>\n",
              "      <td>https://www.ted.com/talks/ken_robinson_says_sc...</td>\n",
              "      <td>47227110</td>\n",
              "    </tr>\n",
              "    <tr>\n",
              "      <th>1</th>\n",
              "      <td>265</td>\n",
              "      <td>With the same humor and humanity he exuded in ...</td>\n",
              "      <td>977</td>\n",
              "      <td>TED2006</td>\n",
              "      <td>1140825600</td>\n",
              "      <td>43</td>\n",
              "      <td>Al Gore</td>\n",
              "      <td>Al Gore: Averting the climate crisis</td>\n",
              "      <td>1</td>\n",
              "      <td>1151367060</td>\n",
              "      <td>[{'id': 7, 'name': 'Funny', 'count': 544}, {'i...</td>\n",
              "      <td>[{'id': 243, 'hero': 'https://pe.tedcdn.com/im...</td>\n",
              "      <td>Climate advocate</td>\n",
              "      <td>['alternative energy', 'cars', 'climate change...</td>\n",
              "      <td>Averting the climate crisis</td>\n",
              "      <td>https://www.ted.com/talks/al_gore_on_averting_...</td>\n",
              "      <td>3200520</td>\n",
              "    </tr>\n",
              "  </tbody>\n",
              "</table>\n",
              "</div>\n",
              "      <button class=\"colab-df-convert\" onclick=\"convertToInteractive('df-7d60b1a4-2676-4a5b-a41f-f89eb095a673')\"\n",
              "              title=\"Convert this dataframe to an interactive table.\"\n",
              "              style=\"display:none;\">\n",
              "        \n",
              "  <svg xmlns=\"http://www.w3.org/2000/svg\" height=\"24px\"viewBox=\"0 0 24 24\"\n",
              "       width=\"24px\">\n",
              "    <path d=\"M0 0h24v24H0V0z\" fill=\"none\"/>\n",
              "    <path d=\"M18.56 5.44l.94 2.06.94-2.06 2.06-.94-2.06-.94-.94-2.06-.94 2.06-2.06.94zm-11 1L8.5 8.5l.94-2.06 2.06-.94-2.06-.94L8.5 2.5l-.94 2.06-2.06.94zm10 10l.94 2.06.94-2.06 2.06-.94-2.06-.94-.94-2.06-.94 2.06-2.06.94z\"/><path d=\"M17.41 7.96l-1.37-1.37c-.4-.4-.92-.59-1.43-.59-.52 0-1.04.2-1.43.59L10.3 9.45l-7.72 7.72c-.78.78-.78 2.05 0 2.83L4 21.41c.39.39.9.59 1.41.59.51 0 1.02-.2 1.41-.59l7.78-7.78 2.81-2.81c.8-.78.8-2.07 0-2.86zM5.41 20L4 18.59l7.72-7.72 1.47 1.35L5.41 20z\"/>\n",
              "  </svg>\n",
              "      </button>\n",
              "      \n",
              "  <style>\n",
              "    .colab-df-container {\n",
              "      display:flex;\n",
              "      flex-wrap:wrap;\n",
              "      gap: 12px;\n",
              "    }\n",
              "\n",
              "    .colab-df-convert {\n",
              "      background-color: #E8F0FE;\n",
              "      border: none;\n",
              "      border-radius: 50%;\n",
              "      cursor: pointer;\n",
              "      display: none;\n",
              "      fill: #1967D2;\n",
              "      height: 32px;\n",
              "      padding: 0 0 0 0;\n",
              "      width: 32px;\n",
              "    }\n",
              "\n",
              "    .colab-df-convert:hover {\n",
              "      background-color: #E2EBFA;\n",
              "      box-shadow: 0px 1px 2px rgba(60, 64, 67, 0.3), 0px 1px 3px 1px rgba(60, 64, 67, 0.15);\n",
              "      fill: #174EA6;\n",
              "    }\n",
              "\n",
              "    [theme=dark] .colab-df-convert {\n",
              "      background-color: #3B4455;\n",
              "      fill: #D2E3FC;\n",
              "    }\n",
              "\n",
              "    [theme=dark] .colab-df-convert:hover {\n",
              "      background-color: #434B5C;\n",
              "      box-shadow: 0px 1px 3px 1px rgba(0, 0, 0, 0.15);\n",
              "      filter: drop-shadow(0px 1px 2px rgba(0, 0, 0, 0.3));\n",
              "      fill: #FFFFFF;\n",
              "    }\n",
              "  </style>\n",
              "\n",
              "      <script>\n",
              "        const buttonEl =\n",
              "          document.querySelector('#df-7d60b1a4-2676-4a5b-a41f-f89eb095a673 button.colab-df-convert');\n",
              "        buttonEl.style.display =\n",
              "          google.colab.kernel.accessAllowed ? 'block' : 'none';\n",
              "\n",
              "        async function convertToInteractive(key) {\n",
              "          const element = document.querySelector('#df-7d60b1a4-2676-4a5b-a41f-f89eb095a673');\n",
              "          const dataTable =\n",
              "            await google.colab.kernel.invokeFunction('convertToInteractive',\n",
              "                                                     [key], {});\n",
              "          if (!dataTable) return;\n",
              "\n",
              "          const docLinkHtml = 'Like what you see? Visit the ' +\n",
              "            '<a target=\"_blank\" href=https://colab.research.google.com/notebooks/data_table.ipynb>data table notebook</a>'\n",
              "            + ' to learn more about interactive tables.';\n",
              "          element.innerHTML = '';\n",
              "          dataTable['output_type'] = 'display_data';\n",
              "          await google.colab.output.renderOutput(dataTable, element);\n",
              "          const docLink = document.createElement('div');\n",
              "          docLink.innerHTML = docLinkHtml;\n",
              "          element.appendChild(docLink);\n",
              "        }\n",
              "      </script>\n",
              "    </div>\n",
              "  </div>\n",
              "  "
            ]
          },
          "metadata": {},
          "execution_count": 3
        }
      ],
      "source": [
        "df.head(2)"
      ]
    },
    {
      "cell_type": "markdown",
      "metadata": {
        "id": "dOIWUA9D3jeQ"
      },
      "source": [
        "<a id='sample'></a>\n",
        "# 1. Sampling"
      ]
    },
    {
      "cell_type": "markdown",
      "metadata": {
        "id": "7cUeeE2049OX"
      },
      "source": [
        "<a id=\"simple\"></a>\n",
        "## 1.1 Simple random sampling"
      ]
    },
    {
      "cell_type": "markdown",
      "metadata": {
        "id": "sPxradbNmdFu"
      },
      "source": [
        "# Task 1\n",
        "**pick the views column and choose a random sample of 500 elements then plot the sample <b>\"after sorting the index\"</b> and compare it with the whole dataset.**"
      ]
    },
    {
      "cell_type": "code",
      "execution_count": null,
      "metadata": {
        "colab": {
          "base_uri": "https://localhost:8080/"
        },
        "id": "O6ykXehp-MdG",
        "outputId": "c324a25b-f1a6-4383-a16b-c34ea136ab05",
        "scrolled": false
      },
      "outputs": [
        {
          "output_type": "execute_result",
          "data": {
            "text/plain": [
              "2550"
            ]
          },
          "metadata": {},
          "execution_count": 8
        }
      ],
      "source": [
        "#views.sample()\n",
        "views = df['views']\n",
        "len (views)\n"
      ]
    },
    {
      "cell_type": "markdown",
      "metadata": {
        "id": "-wD9k12pmdGJ"
      },
      "source": [
        "**plot the views original column and see the difference in both distributions**"
      ]
    },
    {
      "cell_type": "code",
      "source": [
        "views.describe()"
      ],
      "metadata": {
        "colab": {
          "base_uri": "https://localhost:8080/"
        },
        "id": "jp4oS_wTBGs8",
        "outputId": "f4322344-fe9f-4c84-db89-7716b657d307"
      },
      "execution_count": null,
      "outputs": [
        {
          "output_type": "execute_result",
          "data": {
            "text/plain": [
              "count    2.550000e+03\n",
              "mean     1.698297e+06\n",
              "std      2.498479e+06\n",
              "min      5.044300e+04\n",
              "25%      7.557928e+05\n",
              "50%      1.124524e+06\n",
              "75%      1.700760e+06\n",
              "max      4.722711e+07\n",
              "Name: views, dtype: float64"
            ]
          },
          "metadata": {},
          "execution_count": 9
        }
      ]
    },
    {
      "cell_type": "code",
      "source": [
        "# Your code here\n",
        "sample = views.sample(50)\n",
        "sample.head(5)\n"
      ],
      "metadata": {
        "id": "MWlHg_lZn3w6",
        "colab": {
          "base_uri": "https://localhost:8080/"
        },
        "outputId": "caba818a-1cfe-4df9-8920-c51855585e83"
      },
      "execution_count": null,
      "outputs": [
        {
          "output_type": "execute_result",
          "data": {
            "text/plain": [
              "198      777609\n",
              "1340    1245095\n",
              "2511     552732\n",
              "1553    1100997\n",
              "229     3830672\n",
              "Name: views, dtype: int64"
            ]
          },
          "metadata": {},
          "execution_count": 25
        }
      ]
    },
    {
      "cell_type": "code",
      "source": [
        "views.plot.hist(figsize = (15,5))"
      ],
      "metadata": {
        "colab": {
          "base_uri": "https://localhost:8080/",
          "height": 350
        },
        "id": "XOPHkODuBMR9",
        "outputId": "db2f6e56-ded7-4475-e1ae-dab204dbe187"
      },
      "execution_count": null,
      "outputs": [
        {
          "output_type": "execute_result",
          "data": {
            "text/plain": [
              "<matplotlib.axes._subplots.AxesSubplot at 0x7f90c1580cd0>"
            ]
          },
          "metadata": {},
          "execution_count": 23
        },
        {
          "output_type": "display_data",
          "data": {
            "text/plain": [
              "<Figure size 1080x360 with 1 Axes>"
            ],
            "image/png": "[encoded data removed]"
          },
          "metadata": {
            "needs_background": "light"
          }
        }
      ]
    },
    {
      "cell_type": "code",
      "source": [
        "sample.plot.hist(figsize = (15,5))"
      ],
      "metadata": {
        "id": "8gNef_F9orkQ",
        "colab": {
          "base_uri": "https://localhost:8080/",
          "height": 350
        },
        "outputId": "b2636636-0937-43ec-b4a8-33e56d677402"
      },
      "execution_count": null,
      "outputs": [
        {
          "output_type": "execute_result",
          "data": {
            "text/plain": [
              "<matplotlib.axes._subplots.AxesSubplot at 0x7f90c14a9510>"
            ]
          },
          "metadata": {},
          "execution_count": 26
        },
        {
          "output_type": "display_data",
          "data": {
            "text/plain": [
              "<Figure size 1080x360 with 1 Axes>"
            ],
            "image/png": "[encoded data removed]"
          },
          "metadata": {
            "needs_background": "light"
          }
        }
      ]
    },
    {
      "cell_type": "markdown",
      "metadata": {
        "id": "IUHS0VwImdGk"
      },
      "source": [
        "**\"Random sample usually does not represent the whole dataset\"**"
      ]
    },
    {
      "cell_type": "markdown",
      "metadata": {
        "id": "ETvl6Lly5C10"
      },
      "source": [
        "<a id=\"stratified\"></a>\n",
        "## 1.2 Stratified random sampling\n",
        "* Stratified random sampling is a method of sampling that involves the division of a population into smaller sub-groups known as strata.\n",
        "\n",
        "\n",
        "* Stratified random sampling is also called proportional random sampling or quota random sampling.\n",
        "\n",
        "[Stratified random sampling](https://www.investopedia.com/terms/stratified_random_sampling.asp)"
      ]
    },
    {
      "cell_type": "markdown",
      "metadata": {
        "id": "obFtI4BkmdGo"
      },
      "source": [
        "# Task 2\n",
        "**Apply the stratified random sampling on the views column with 5 stratified samples and 500 elements in total**"
      ]
    },
    {
      "cell_type": "code",
      "execution_count": null,
      "metadata": {
        "id": "PWjmSAdHmdGp"
      },
      "outputs": [],
      "source": [
        "minn = views.min()\n",
        "maxx = views.max()\n",
        "diff = (views.max() - views.min())\n",
        "print('minimum = ', minn)\n",
        "print('maximum = ', maxx)\n",
        "print('difference = ', diff)"
      ]
    },
    {
      "cell_type": "markdown",
      "metadata": {
        "id": "cKtRnI33mdG6"
      },
      "source": [
        "<img src=\"dataset.png\">"
      ]
    },
    {
      "cell_type": "code",
      "execution_count": null,
      "metadata": {
        "id": "7JmoE6kJA_V_"
      },
      "outputs": [],
      "source": [
        "m = views.min()\n",
        "l = (views.max() - views.min())//5 # length of each interval\n",
        "g1 = views[views < m+l ] # add l to m; beacause we start from m not zero.\n",
        "# Your code here\n",
        "\n",
        "\n",
        "\n",
        "\n"
      ]
    },
    {
      "cell_type": "code",
      "execution_count": null,
      "metadata": {
        "id": "VjsdoNrxmdG9"
      },
      "outputs": [],
      "source": [
        "print(\"g1= \",len(g1))\n",
        "print(\"g2= \",len(g2))\n",
        "print(\"g3= \",len(g3))\n",
        "print(\"g4= \",len(g4))\n",
        "print(\"g5= \",len(g5))"
      ]
    },
    {
      "cell_type": "markdown",
      "metadata": {
        "id": "8kPlNxCMmdHB"
      },
      "source": [
        "<img src=\"groups.png\">"
      ]
    },
    {
      "cell_type": "code",
      "execution_count": null,
      "metadata": {
        "id": "O3XhaxH9FfHl"
      },
      "outputs": [],
      "source": [
        "# Your code here\n",
        "\n",
        "sample_size = 500\n",
        "total = 2550\n",
        "sample_percentage = sample_size / total # 500 / 2550 = 0.196\n",
        "\n",
        "# 0.196 * 2514 = 492.94 ~ 492\n",
        "s1 = # Your code here\n",
        "\n",
        "# 0.196 * 26 = 5.09 ~ 5\n",
        "s2 = # Your code here \n",
        "\n",
        "# 0.196 * 6 = 1.17 ~ 1\n",
        "s3 = # Your code here\n",
        "# 0.196 * 2 = 0.392 + 0.7 = 1.092 ~ 1 \"I have added 0.7 so the result becomes an integer number\"\n",
        "s4 = # Your code here\n",
        "\n",
        "# 0.196 * 2 = 0.392 + 0.7 = 1.092 ~ 1 \"I have added 0.7 so the result becomes an integer number\"\n",
        "s5 = # Your code here \n",
        "\n",
        "s = s1.append([s2, s3, s4, s5])\n",
        "s.sort_index().plot.hist(figsize=(15,5));"
      ]
    },
    {
      "cell_type": "code",
      "execution_count": null,
      "metadata": {
        "id": "mhNHLQgNmdHI"
      },
      "outputs": [],
      "source": [
        "views.sort_index().plot.hist(figsize=(15,5));"
      ]
    },
    {
      "cell_type": "code",
      "execution_count": null,
      "metadata": {
        "id": "yuucV4temdHY"
      },
      "outputs": [],
      "source": [
        "print(\"sample of g1= \",len(s1))\n",
        "print(\"sample of g2= \",len(s2))\n",
        "print(\"sample of g3= \",len(s3))\n",
        "print(\"sample of g4= \",len(s4))\n",
        "print(\"sample of g5= \",len(s5))"
      ]
    },
    {
      "cell_type": "markdown",
      "metadata": {
        "id": "akBzST8emdHZ"
      },
      "source": [
        "<img src=\"samples.png\">"
      ]
    },
    {
      "cell_type": "markdown",
      "metadata": {
        "id": "Dena20Bu5TxZ"
      },
      "source": [
        "<a id=\"cluster\"></a>\n",
        "## 1.3 Cluster sampling\n",
        "1. In cluster sampling, researchers divide a population into smaller groups known as clusters.  They then randomly select among these clusters to form a sample.\n",
        "\n",
        "\n",
        "2. Cluster sampling is a method of probability sampling that is often used to study large populations, particularly those that are widely geographically dispersed. Researchers usually use pre-existing units such as schools or cities as their clusters.\n",
        "\n",
        "[Cluster sampling](https://www.scribbr.com/methodology/cluster-sampling/)"
      ]
    },
    {
      "cell_type": "markdown",
      "metadata": {
        "id": "k-_YzxHJmdHd"
      },
      "source": [
        "# Task 3\n",
        "**Cluster the samples based on the event, filter the events with occurrence more than 22 times, then pick an event randomly and plot its views**"
      ]
    },
    {
      "cell_type": "code",
      "execution_count": null,
      "metadata": {
        "id": "BJ3CLtWJMUbn"
      },
      "outputs": [],
      "source": [
        "# Get events that occur more than 22 times\n",
        "# pd.Series()\n",
        "event = # Your code here\n",
        "clusters = pd.Series(event[event == True].index)"
      ]
    },
    {
      "cell_type": "code",
      "execution_count": null,
      "metadata": {
        "id": "qhUC43WgmdHe"
      },
      "outputs": [],
      "source": [
        "clusters"
      ]
    },
    {
      "cell_type": "code",
      "execution_count": null,
      "metadata": {
        "id": "1icOB406mdHf"
      },
      "outputs": [],
      "source": [
        "# Get a random sample from the cluster we made\n",
        "event_name = clusters.sample(1).values[0]\n",
        "df[df['event'] == event_name]['views'].plot.hist();"
      ]
    },
    {
      "cell_type": "markdown",
      "metadata": {
        "id": "qCGHxOJpmdHu"
      },
      "source": [
        "<a id='binning'></a>\n",
        "# 2. Binning"
      ]
    },
    {
      "cell_type": "markdown",
      "metadata": {
        "id": "kyhQi1z8mdHv"
      },
      "source": [
        "<a id=\"depth\"></a>\n",
        "## 2.1 Equal depth(frequency)\n",
        "**# Same as we did in Stratified random sampling**"
      ]
    },
    {
      "cell_type": "markdown",
      "metadata": {
        "id": "dsGTGYiqmdHw"
      },
      "source": [
        "<a id='width'></a>\n",
        "## 2.2 Equal width"
      ]
    },
    {
      "cell_type": "code",
      "execution_count": null,
      "metadata": {
        "id": "jx9jJBfxmdIM"
      },
      "outputs": [],
      "source": [
        "import numpy as np\n",
        "n = 5\n",
        "bins =np.sort(df['views'].to_numpy())\n",
        "bins = (bins - bins.mean())/bins.std() #Standardization\n",
        "bins_original = bins"
      ]
    },
    {
      "cell_type": "code",
      "execution_count": null,
      "metadata": {
        "id": "2NE_YDPkmdIN"
      },
      "outputs": [],
      "source": [
        "import matplotlib.pyplot as plt\n",
        "import scipy.stats as stats\n",
        "plt.plot(bins, stats.norm.pdf(bins, bins.mean(), bins.std()))\n",
        "plt.show()"
      ]
    },
    {
      "cell_type": "code",
      "execution_count": null,
      "metadata": {
        "id": "8xGQC7KcmdIO"
      },
      "outputs": [],
      "source": [
        "bins"
      ]
    },
    {
      "cell_type": "code",
      "execution_count": null,
      "metadata": {
        "id": "cWaftKdTmdIP"
      },
      "outputs": [],
      "source": [
        "bins.shape"
      ]
    },
    {
      "cell_type": "code",
      "execution_count": null,
      "metadata": {
        "id": "Dsaa_fjvmdIU"
      },
      "outputs": [],
      "source": [
        "depth = int(len(bins)/n)\n",
        "bins = bins.reshape((n, depth))\n",
        "bins"
      ]
    },
    {
      "cell_type": "code",
      "execution_count": null,
      "metadata": {
        "id": "k2KRULT6mdIU"
      },
      "outputs": [],
      "source": [
        "bins.shape"
      ]
    },
    {
      "cell_type": "markdown",
      "metadata": {
        "id": "w_T9NHFKmdIc"
      },
      "source": [
        "# Task 4"
      ]
    },
    {
      "cell_type": "code",
      "execution_count": null,
      "metadata": {
        "id": "tc9ZOGM7mdIi"
      },
      "outputs": [],
      "source": [
        "bins_mean = list()\n",
        "bins_median = list()\n",
        "\n",
        "# Your code here\n",
        "\n",
        "\n",
        "\n"
      ]
    },
    {
      "cell_type": "markdown",
      "metadata": {
        "id": "WivX4nv6mdIi"
      },
      "source": [
        "<a id=\"mean\"></a>\n",
        "### 2.2.1 binning with the mean\n"
      ]
    },
    {
      "cell_type": "code",
      "execution_count": null,
      "metadata": {
        "id": "hbX812J6mdIj"
      },
      "outputs": [],
      "source": [
        "plt.plot(bins_mean);"
      ]
    },
    {
      "cell_type": "markdown",
      "metadata": {
        "id": "wkPVKzt-mdIt"
      },
      "source": [
        "<a id=\"median\"></a>\n",
        "### 2.2.2 Binning with the median"
      ]
    },
    {
      "cell_type": "code",
      "execution_count": null,
      "metadata": {
        "id": "wQzs5W3amdIx"
      },
      "outputs": [],
      "source": [
        "plt.plot(bins_median);"
      ]
    },
    {
      "cell_type": "markdown",
      "metadata": {
        "id": "qwtgyVPXmdIy"
      },
      "source": [
        "<a id=\"boundaries\"></a>\n",
        "### 2.2.3 Binning with the boundaries"
      ]
    },
    {
      "cell_type": "code",
      "execution_count": null,
      "metadata": {
        "id": "7nwR4nhdmdIy"
      },
      "outputs": [],
      "source": [
        "bins_bound = list()\n",
        "# Your code here\n"
      ]
    },
    {
      "cell_type": "code",
      "execution_count": null,
      "metadata": {
        "id": "zREvNQRYmdI4"
      },
      "outputs": [],
      "source": [
        "plt.plot(bins_bound);"
      ]
    },
    {
      "cell_type": "markdown",
      "metadata": {
        "id": "6FB7Nf62mdI5"
      },
      "source": [
        "### plot the original column without binning"
      ]
    },
    {
      "cell_type": "code",
      "execution_count": null,
      "metadata": {
        "id": "czKCvNGQmdI5"
      },
      "outputs": [],
      "source": [
        "plt.plot(bins_original);"
      ]
    },
    {
      "cell_type": "markdown",
      "metadata": {
        "id": "1Y9hSLZemdJJ"
      },
      "source": [
        "<a id=\"corr\"></a>\n",
        "# 3. Correlation coofficient\n",
        "A correlation coefficient is a number between -1 and 1 that tells you the strength and direction of a relationship between variables.\n",
        "\n",
        "In other words, it reflects how similar the measurements of two or more variables are across a dataset.\n",
        "\n",
        "[Correlation coofficient](https://www.scribbr.com/statistics/correlation-coefficient)"
      ]
    },
    {
      "cell_type": "code",
      "execution_count": null,
      "metadata": {
        "id": "jNQHVeSFmdJT"
      },
      "outputs": [],
      "source": [
        "df.plot.scatter(x = 'views', y = 'comments');"
      ]
    },
    {
      "cell_type": "markdown",
      "metadata": {
        "id": "45liImpjmdJU"
      },
      "source": [
        "<img src=\"pearson.png\">"
      ]
    },
    {
      "cell_type": "markdown",
      "metadata": {
        "id": "XcoqU98PmdJU"
      },
      "source": [
        "# Task 5\n",
        "**Calculate the correlation between the views  and comments column**"
      ]
    },
    {
      "cell_type": "code",
      "execution_count": null,
      "metadata": {
        "id": "AUAEU_QEmdJV"
      },
      "outputs": [],
      "source": [
        "a_mean = df['views'].mean()\n",
        "b_mean = df['comments'].mean()\n",
        "n = len(df)-1\n",
        "print(a_mean, b_mean)\n",
        "# Your code here\n",
        "\n"
      ]
    },
    {
      "cell_type": "code",
      "execution_count": null,
      "metadata": {
        "id": "S96-HWtzmdJh"
      },
      "outputs": [],
      "source": [
        "corr # Range from -1 to 1"
      ]
    },
    {
      "cell_type": "markdown",
      "metadata": {
        "id": "8PebLcV7mdJh"
      },
      "source": [
        "# Extra\n",
        "**You can get correlation using scipy.stats.pearson**"
      ]
    },
    {
      "cell_type": "code",
      "execution_count": null,
      "metadata": {
        "id": "lRwuzY9TmdJi"
      },
      "outputs": [],
      "source": [
        "from scipy.stats import pearsonr\n",
        "pearsonr(df['views'], df['comments']) \n",
        "#Returns\n",
        "#r : float\n",
        "    #Pearson's correlation coefficient.\n",
        "#p-value : float\n",
        "    #Two-tailed p-value."
      ]
    },
    {
      "cell_type": "code",
      "execution_count": null,
      "metadata": {
        "id": "xGZ5O-42mdJo"
      },
      "outputs": [],
      "source": [
        ""
      ]
    }
  ],
  "metadata": {
    "accelerator": "GPU",
    "colab": {
      "name": "CSCI322_lab2.ipynb",
      "provenance": [],
      "collapsed_sections": [],
      "include_colab_link": true
    },
    "kernelspec": {
      "display_name": "Python 3",
      "language": "python",
      "name": "python3"
    },
    "language_info": {
      "codemirror_mode": {
        "name": "ipython",
        "version": 3
      },
      "file_extension": ".py",
      "mimetype": "text/x-python",
      "name": "python",
      "nbconvert_exporter": "python",
      "pygments_lexer": "ipython3",
      "version": "3.8.5"
    }
  },
  "nbformat": 4,
  "nbformat_minor": 0
}